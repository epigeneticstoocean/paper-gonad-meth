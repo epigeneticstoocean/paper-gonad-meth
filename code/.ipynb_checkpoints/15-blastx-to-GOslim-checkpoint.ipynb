{
 "cells": [
  {
   "cell_type": "markdown",
   "metadata": {},
   "source": [
    "# `blastx` to GOslim"
   ]
  },
  {
   "cell_type": "markdown",
   "metadata": {},
   "source": [
    "In this notebook, I'll take my `blastx` output for mRNA transcripts and match each transcript with GOslim. My script was modified from [this Jupyter notebook](https://github.com/sr320/nb-2018/blob/master/C_virginica/83-blast-2-slim.ipynb)."
   ]
  },
  {
   "cell_type": "markdown",
   "metadata": {},
   "source": [
    "## 0. Set working directory"
   ]
  },
  {
   "cell_type": "code",
   "execution_count": 1,
   "metadata": {
    "collapsed": false
   },
   "outputs": [
    {
     "data": {
      "text/plain": [
       "'/Users/yaamini/Documents/paper-gonad-meth/code'"
      ]
     },
     "execution_count": 1,
     "metadata": {},
     "output_type": "execute_result"
    }
   ],
   "source": [
    "pwd"
   ]
  },
  {
   "cell_type": "code",
   "execution_count": 2,
   "metadata": {
    "collapsed": false
   },
   "outputs": [
    {
     "name": "stdout",
     "output_type": "stream",
     "text": [
      "/Users/yaamini/Documents/paper-gonad-meth/analyses/2019-08-14-Differentially-Methylated-Genes\n"
     ]
    }
   ],
   "source": [
    "cd ../analyses/2019-08-14-Differentially-Methylated-Genes/"
   ]
  },
  {
   "cell_type": "markdown",
   "metadata": {},
   "source": [
    "## 1. Download files and set variable paths"
   ]
  },
  {
   "cell_type": "markdown",
   "metadata": {},
   "source": [
    "The directory needs the following files:\n",
    "\n",
    "- Uniprot GO annotation file (340M) available here http://owl.fish.washington.edu/halfshell/bu-alanine-wd/17-07-20/uniprot-SP-GO.sorted\n",
    "- GOslim file available here http://owl.fish.washington.edu/halfshell/bu-alanine-wd/17-07-20/GO-GOslim.sorted\n",
    "- `blastx` output file in format -6"
   ]
  },
  {
   "cell_type": "code",
   "execution_count": 3,
   "metadata": {
    "collapsed": false
   },
   "outputs": [
    {
     "name": "stdout",
     "output_type": "stream",
     "text": [
      "  % Total    % Received % Xferd  Average Speed   Time    Time     Time  Current\n",
      "                                 Dload  Upload   Total   Spent    Left  Speed\n",
      "100  340M  100  340M    0     0  13.6M      0  0:00:24  0:00:24 --:--:-- 19.7M\n"
     ]
    }
   ],
   "source": [
    "!curl -O http://owl.fish.washington.edu/halfshell/bu-alanine-wd/17-07-20/uniprot-SP-GO.sorted"
   ]
  },
  {
   "cell_type": "code",
   "execution_count": 4,
   "metadata": {
    "collapsed": false
   },
   "outputs": [
    {
     "name": "stdout",
     "output_type": "stream",
     "text": [
      "  % Total    % Received % Xferd  Average Speed   Time    Time     Time  Current\n",
      "                                 Dload  Upload   Total   Spent    Left  Speed\n",
      "100 2314k  100 2314k    0     0  5771k      0 --:--:-- --:--:-- --:--:-- 5964k\n"
     ]
    }
   ],
   "source": [
    "!curl -O http://owl.fish.washington.edu/halfshell/bu-alanine-wd/17-07-20/GO-GOslim.sorted"
   ]
  },
  {
   "cell_type": "code",
   "execution_count": 28,
   "metadata": {
    "collapsed": false
   },
   "outputs": [
    {
     "name": "stdout",
     "output_type": "stream",
     "text": [
      "XM_022430339.1\tsp\tP00491\tPNPH_HUMAN\t49.29\t282\t143\t0\t116\t961\t1\t282\t2.00E-96\t310\r",
      "\r\n",
      "XM_022430340.1\tsp\tO95613\tPCNT_HUMAN\t29.03\t124\t83\t2\t364\t735\t82\t200\t1.00E-07\t57.8\r",
      "\r\n",
      "XM_022430340.1\tsp\tO95613\tPCNT_HUMAN\t29.35\t92\t65\t0\t457\t732\t121\t212\t4.00E-07\t55.8\r",
      "\r\n",
      "XM_022430341.1\tsp\tO95613\tPCNT_HUMAN\t31.25\t80\t55\t0\t457\t696\t121\t200\t4.00E-06\t52.4\r",
      "\r\n",
      "XM_022430341.1\tsp\tO95613\tPCNT_HUMAN\t27.93\t111\t75\t2\t364\t696\t82\t187\t5.00E-05\t48.9\r",
      "\r\n",
      "XM_022430341.1\tsp\tO95613\tPCNT_HUMAN\t29.11\t79\t56\t0\t457\t693\t134\t212\t1.00E-04\t48.1\r",
      "\r\n",
      "XM_022430342.1\tsp\tO95613\tPCNT_HUMAN\t31.25\t80\t55\t0\t457\t696\t121\t200\t3.00E-06\t53.1\r",
      "\r\n",
      "XM_022430342.1\tsp\tO95613\tPCNT_HUMAN\t27.93\t111\t75\t2\t364\t696\t82\t187\t2.00E-05\t50.1\r",
      "\r\n",
      "XM_022430342.1\tsp\tO95613\tPCNT_HUMAN\t29.11\t79\t56\t0\t457\t693\t134\t212\t5.00E-05\t49.3\r",
      "\r\n",
      "XM_022430343.1\tsp\tP09241\tOPSD_ENTDO\t23.67\t207\t151\t5\t190\t795\t38\t242\t4.00E-08\t59.3\r",
      "\r\n"
     ]
    }
   ],
   "source": [
    "!head ../2018-12-02-Gene-Enrichment-Analysis/2018-09-11-Transcript-Uniprot-blastx-codeIsolated.txt"
   ]
  },
  {
   "cell_type": "markdown",
   "metadata": {},
   "source": [
    "## 2. Match `blastx` to GOslim terms"
   ]
  },
  {
   "cell_type": "markdown",
   "metadata": {},
   "source": [
    "No code below needs to be modified!"
   ]
  },
  {
   "cell_type": "code",
   "execution_count": 29,
   "metadata": {
    "collapsed": false
   },
   "outputs": [],
   "source": [
    "#reducing number of columns and sorting to get spid evlaue - \n",
    "!awk -v OFS='\\t' '{print $3, $1, $13}' < ../2018-12-02-Gene-Enrichment-Analysis/2018-09-11-Transcript-Uniprot-blastx-codeIsolated.txt | sort \\\n",
    "> _blast-sort.tab"
   ]
  },
  {
   "cell_type": "code",
   "execution_count": 30,
   "metadata": {
    "collapsed": false
   },
   "outputs": [
    {
     "name": "stdout",
     "output_type": "stream",
     "text": [
      "A0A084API3\tXM_022442998.1\t5.9\r\n",
      "A0A086F3E3\tXM_022443134.1\t0.23\r\n"
     ]
    }
   ],
   "source": [
    "!head -2 _blast-sort.tab"
   ]
  },
  {
   "cell_type": "code",
   "execution_count": 31,
   "metadata": {
    "collapsed": true
   },
   "outputs": [],
   "source": [
    "#joining blast with uniprot annoation file and reducing to three columns UniprotID, Query, All GO terms\n",
    "!join -t $'\\t' \\\n",
    "_blast-sort.tab \\\n",
    "uniprot-SP-GO.sorted \\\n",
    "| cut -f1,2,14 \\\n",
    "> _blast-annot.tab"
   ]
  },
  {
   "cell_type": "code",
   "execution_count": 32,
   "metadata": {
    "collapsed": false
   },
   "outputs": [
    {
     "name": "stdout",
     "output_type": "stream",
     "text": [
      "A0A086F3E3\tXM_022443134.1\tGO:0016021; GO:0022841; GO:0071805\r\n",
      "A0A0A6YXX9\tXM_022439761.1\t\r\n"
     ]
    }
   ],
   "source": [
    "!head -2 _blast-annot.tab"
   ]
  },
  {
   "cell_type": "code",
   "execution_count": 33,
   "metadata": {
    "collapsed": true
   },
   "outputs": [],
   "source": [
    "%%bash \n",
    "\n",
    "# This script was originally written to address a specific problem that Rhonda was having\n",
    "\n",
    "\n",
    "\n",
    "# input_file is the initial, \"problem\" file\n",
    "# file is an intermediate file that most of the program works upon\n",
    "# output_file is the final file produced by the script\n",
    "input_file=\"_blast-annot.tab\"\n",
    "file=\"_intermediate.file\"\n",
    "output_file=\"_blast-GO-unfolded.tab\"\n",
    "\n",
    "# sed command substitutes the \"; \" sequence to a tab and writes the new format to a new file.\n",
    "# This character sequence is how the GO terms are delimited in their field.\n",
    "sed $'s/; /\\t/g' \"$input_file\" > \"$file\"\n",
    "\n",
    "# Identify first field containing a GO term.\n",
    "# Search file with grep for \"GO:\" and pipe to awk.\n",
    "# Awk sets tab as field delimiter (-F'\\t'), runs a for loop that looks for \"GO:\" (~/GO:/), and then prints the field number).\n",
    "# Awk results are piped to sort, which sorts unique by number (-ug).\n",
    "# Sort results are piped to head to retrieve the lowest value (i.e. the top of the list; \"-n1\").\n",
    "begin_goterms=$(grep \"GO:\" \"$file\" | awk -F'\\t' '{for (i=1;i<=NF;i++) if($i ~/GO:/) print i}' | sort -ug | head -n1)\n",
    "\n",
    "# While loop to process each line of the input file.\n",
    "while read -r line\n",
    "\tdo\n",
    "\t\n",
    "\t# Send contents of the current line to awk.\n",
    "\t# Set the field separator as a tab (-F'\\t') and print the number of fields in that line.\n",
    "\t# Save the results of the echo/awk pipe (i.e. number of fields) to the variable \"max_field\".\n",
    "\tmax_field=$(echo \"$line\" | awk -F'\\t' '{print NF}')\n",
    "\n",
    "\t# Send contents of current line to cut.\n",
    "\t# Cut fields (i.e. retain those fields) 1-12.\n",
    "\t# Save the results of the echo/cut pipe (i.e. fields 1-12) to the variable \"fixed_fields\"\n",
    "\tfixed_fields=$(echo \"$line\" | cut -f1-2)\n",
    "\n",
    "\t# Since not all the lines contain the same number of fields (e.g. may not have GO terms),\n",
    "\t# evaluate the number of fields in each line to determine how to handle current line.\n",
    "\n",
    "\t# If the value in max_field is less than the field number where the GO terms begin,\n",
    "\t# then just print the current line (%s) followed by a newline (\\n).\n",
    "\tif (( \"$max_field\" < \"$begin_goterms\" ))\n",
    "\t\tthen printf \"%s\\n\" \"$line\"\n",
    "\t\t\telse\n",
    "\n",
    "\t\t\t# Send contents of current line (which contains GO terms) to cut.\n",
    "\t\t\t# Cut fields (i.e. retain those fields) 13 to whatever the last field is in the curent line.\n",
    "\t\t\t# Save the results of the echo/cut pipe (i.e. all the GO terms fields) to the variable \"goterms\".\n",
    "\t\t\tgoterms=$(echo \"$line\" | cut -f\"$begin_goterms\"-\"$max_field\")\n",
    "\t\t\t\n",
    "\t\t\t# Assign values in the variable \"goterms\" to a new indexed array (called \"array\"), \n",
    "\t\t\t# with tab delimiter (IFS=$'\\t')\n",
    "\t\t\tIFS=$'\\t' read -r -a array <<<\"$goterms\"\n",
    "\t\t\t\n",
    "\t\t\t# Iterate through each element of the array.\n",
    "\t\t\t# Print the first 12 fields (i.e. the fields stored in \"fixed_fields\") followed by a tab (%s\\t).\n",
    "\t\t\t# Print the current element in the array (i.e. the current GO term) followed by a new line (%s\\n).\n",
    "\t\t\tfor element in \"${!array[@]}\"\t\n",
    "\t\t\t\tdo printf \"%s\\t%s\\n\" \"$fixed_fields\" \"${array[$element]}\"\n",
    "\t\t\tdone\n",
    "\tfi\n",
    "\n",
    "# Send the input file into the while loop and send the output to a file named \"rhonda_fixed.txt\".\n",
    "done < \"$file\" > \"$output_file\""
   ]
  },
  {
   "cell_type": "code",
   "execution_count": 34,
   "metadata": {
    "collapsed": false
   },
   "outputs": [
    {
     "name": "stdout",
     "output_type": "stream",
     "text": [
      "A0A086F3E3\tXM_022443134.1\tGO:0016021\r\n",
      "A0A086F3E3\tXM_022443134.1\tGO:0022841\r\n",
      "A0A086F3E3\tXM_022443134.1\tGO:0071805\r\n",
      "A0A0A6YXX9\tXM_022439761.1\r\n",
      "A0A0A7DNP6\tXM_022463864.1\tGO:0005576\r\n",
      "A0A0A7DNP6\tXM_022463864.1\tGO:0007218\r\n",
      "A0A0B4J1F4\tXM_022466820.1\tGO:0005768\r\n",
      "A0A0B4J1F4\tXM_022466820.1\tGO:0005769\r\n",
      "A0A0B4J1F4\tXM_022466820.1\tGO:0005886\r\n",
      "A0A0B4J1F4\tXM_022466820.1\tGO:0051443\r\n"
     ]
    }
   ],
   "source": [
    "!head _blast-GO-unfolded.tab"
   ]
  },
  {
   "cell_type": "code",
   "execution_count": 42,
   "metadata": {
    "collapsed": false
   },
   "outputs": [],
   "source": [
    "!awk '{print $3\"\\t\"$2}' _blast-GO-unfolded.tab | sort -V > _blast-GO-unfolded.sorted"
   ]
  },
  {
   "cell_type": "code",
   "execution_count": 43,
   "metadata": {
    "collapsed": false
   },
   "outputs": [
    {
     "name": "stdout",
     "output_type": "stream",
     "text": [
      "GO:0000001\tXM_022439334.1\r\n",
      "GO:0000001\tXM_022439801.1\r\n",
      "GO:0000001\tXM_022449404.1\r\n",
      "GO:0000001\tXM_022454917.1\r\n",
      "GO:0000001\tXM_022454918.1\r\n",
      "GO:0000001\tXM_022454919.1\r\n",
      "GO:0000001\tXM_022454920.1\r\n",
      "GO:0000001\tXM_022457838.1\r\n",
      "GO:0000001\tXM_022457839.1\r\n",
      "GO:0000001\tXM_022458199.1\r\n"
     ]
    }
   ],
   "source": [
    "#extra space was removed tw\n",
    "!head _blast-GO-unfolded.sorted"
   ]
  },
  {
   "cell_type": "code",
   "execution_count": 39,
   "metadata": {
    "collapsed": false
   },
   "outputs": [
    {
     "name": "stdout",
     "output_type": "stream",
     "text": [
      "GO:0000001\tmitochondrion inheritance\tcell organization and biogenesis\tP\r\n",
      "GO:0000002\tmitochondrial genome maintenance\tcell organization and biogenesis\tP\r\n",
      "GO:0000003\treproduction\tother biological processes\tP\r\n",
      "GO:0000006\thigh affinity zinc uptake transmembrane transporter activity\ttransporter activity\tF\r\n",
      "GO:0000007\tlow-affinity zinc ion transmembrane transporter activity\ttransporter activity\tF\r\n",
      "GO:0000009\t\"alpha-1,6-mannosyltransferase activity\"\tother molecular function\tF\r\n",
      "GO:0000010\ttrans-hexaprenyltranstransferase activity\tother molecular function\tF\r\n",
      "GO:0000011\tvacuole inheritance\tcell organization and biogenesis\tP\r\n",
      "GO:0000012\tsingle strand break repair\tDNA metabolism\tP\r\n",
      "GO:0000012\tsingle strand break repair\tstress response\tP\r\n"
     ]
    }
   ],
   "source": [
    "!head GO-GOslim.sorted"
   ]
  },
  {
   "cell_type": "code",
   "execution_count": 44,
   "metadata": {
    "collapsed": false
   },
   "outputs": [
    {
     "name": "stdout",
     "output_type": "stream",
     "text": [
      "GO:0000001\tXM_022439334.1\tmitochondrion inheritance\tcell organization and biogenesis\tP\r\n",
      "GO:0000001\tXM_022439801.1\tmitochondrion inheritance\tcell organization and biogenesis\tP\r\n",
      "GO:0000001\tXM_022449404.1\tmitochondrion inheritance\tcell organization and biogenesis\tP\r\n",
      "GO:0000001\tXM_022454917.1\tmitochondrion inheritance\tcell organization and biogenesis\tP\r\n",
      "GO:0000001\tXM_022454918.1\tmitochondrion inheritance\tcell organization and biogenesis\tP\r\n",
      "GO:0000001\tXM_022454919.1\tmitochondrion inheritance\tcell organization and biogenesis\tP\r\n",
      "GO:0000001\tXM_022454920.1\tmitochondrion inheritance\tcell organization and biogenesis\tP\r\n",
      "GO:0000001\tXM_022457838.1\tmitochondrion inheritance\tcell organization and biogenesis\tP\r\n",
      "GO:0000001\tXM_022457839.1\tmitochondrion inheritance\tcell organization and biogenesis\tP\r\n",
      "GO:0000001\tXM_022458199.1\tmitochondrion inheritance\tcell organization and biogenesis\tP\r\n",
      "join: stdout: Broken pipe\r\n"
     ]
    }
   ],
   "source": [
    "!join -1 1 -2 1 -t $'\\t' \\\n",
    "_blast-GO-unfolded.sorted \\\n",
    "GO-GOslim.sorted | head"
   ]
  },
  {
   "cell_type": "code",
   "execution_count": 45,
   "metadata": {
    "collapsed": false
   },
   "outputs": [
    {
     "name": "stdout",
     "output_type": "stream",
     "text": [
      "  943822 Blastquery-GOslim.tab\r\n"
     ]
    }
   ],
   "source": [
    "#joining files to get GOslim for each query (with duplicate GOslim / query removed)\n",
    "!join -1 1 -2 1 -t $'\\t' \\\n",
    "_blast-GO-unfolded.sorted \\\n",
    "GO-GOslim.sorted \\\n",
    "| uniq | awk -F'\\t' -v OFS='\\t' '{print $2, $4, $5}' \\\n",
    "> Blastquery-GOslim.tab\n",
    "!wc -l Blastquery-GOslim.tab"
   ]
  },
  {
   "cell_type": "code",
   "execution_count": 46,
   "metadata": {
    "collapsed": false
   },
   "outputs": [
    {
     "name": "stdout",
     "output_type": "stream",
     "text": [
      "XM_022439334.1\tcell organization and biogenesis\tP\n",
      "XM_022439801.1\tcell organization and biogenesis\tP\n",
      "XM_022449404.1\tcell organization and biogenesis\tP\n",
      "XM_022454917.1\tcell organization and biogenesis\tP\n",
      "XM_022454918.1\tcell organization and biogenesis\tP\n",
      "XM_022454919.1\tcell organization and biogenesis\tP\n",
      "XM_022454920.1\tcell organization and biogenesis\tP\n",
      "XM_022457838.1\tcell organization and biogenesis\tP\n",
      "XM_022457839.1\tcell organization and biogenesis\tP\n",
      "XM_022458199.1\tcell organization and biogenesis\tP\n",
      "  943822 Blastquery-GOslim.tab\n"
     ]
    }
   ],
   "source": [
    "!head Blastquery-GOslim.tab\n",
    "!wc -l Blastquery-GOslim.tab"
   ]
  },
  {
   "cell_type": "markdown",
   "metadata": {},
   "source": [
    "## 3. Get Biological Process GOslim terms"
   ]
  },
  {
   "cell_type": "code",
   "execution_count": 9,
   "metadata": {
    "collapsed": false
   },
   "outputs": [
    {
     "name": "stdout",
     "output_type": "stream",
     "text": [
      "XM_022430339.1\tcell cycle and proliferation\r\n",
      "XM_022430339.1\tdevelopmental processes\r\n",
      "XM_022430339.1\tother biological processes\r\n",
      "XM_022430339.1\tother biological processes\r\n",
      "XM_022430339.1\tother metabolic processes\r\n",
      "XM_022430339.1\tother metabolic processes\r\n",
      "XM_022430339.1\tother metabolic processes\r\n",
      "XM_022430339.1\tother metabolic processes\r\n",
      "XM_022430339.1\tother metabolic processes\r\n",
      "XM_022430339.1\tother metabolic processes\r\n"
     ]
    }
   ],
   "source": [
    "!awk -F\"\\t\" '$3 == \"P\" { print $1\"\\t\"$2 }' Blastquery-GOslim.tab | sort > Blastquery-GOslim-BP.sorted\n",
    "!head Blastquery-GOslim-BP.sorted"
   ]
  },
  {
   "cell_type": "code",
   "execution_count": 3,
   "metadata": {
    "collapsed": false
   },
   "outputs": [
    {
     "name": "stdout",
     "output_type": "stream",
     "text": [
      "XM_022430339.1\tcell cycle and proliferation\n",
      "XM_022430339.1\tdevelopmental processes\n",
      "XM_022430339.1\tother biological processes\n",
      "XM_022430339.1\tother metabolic processes\n",
      "XM_022430339.1\ttransport\n",
      "XM_022430340.1\tcell cycle and proliferation\n",
      "XM_022430340.1\tcell organization and biogenesis\n",
      "XM_022430341.1\tcell cycle and proliferation\n",
      "XM_022430341.1\tcell organization and biogenesis\n",
      "XM_022430342.1\tcell cycle and proliferation\n",
      "  133787 Blastquery-GOslim-BP.sorted.unique\n"
     ]
    }
   ],
   "source": [
    "#Remove duplicate entries\n",
    "#Count the number of unique entries\n",
    "!uniq Blastquery-GOslim-BP.sorted > Blastquery-GOslim-BP.sorted.unique\n",
    "!head Blastquery-GOslim-BP.sorted.unique\n",
    "!wc -l Blastquery-GOslim-BP.sorted.unique"
   ]
  },
  {
   "cell_type": "code",
   "execution_count": 4,
   "metadata": {
    "collapsed": false
   },
   "outputs": [
    {
     "name": "stdout",
     "output_type": "stream",
     "text": [
      "  126112\r\n"
     ]
    }
   ],
   "source": [
    "#Count the number of unique IDs with GOSlim terms\n",
    "!uniq -f1 Blastquery-GOslim-BP.sorted.unique | wc -l"
   ]
  },
  {
   "cell_type": "code",
   "execution_count": 5,
   "metadata": {
    "collapsed": false
   },
   "outputs": [
    {
     "name": "stdout",
     "output_type": "stream",
     "text": [
      "XM_022430339.1\tcell cycle and proliferation\n",
      "XM_022430339.1\tdevelopmental processes\n",
      "XM_022430339.1\tother metabolic processes\n",
      "XM_022430339.1\ttransport\n",
      "XM_022430340.1\tcell cycle and proliferation\n",
      "XM_022430340.1\tcell organization and biogenesis\n",
      "XM_022430341.1\tcell cycle and proliferation\n",
      "XM_022430341.1\tcell organization and biogenesis\n",
      "XM_022430342.1\tcell cycle and proliferation\n",
      "XM_022430342.1\tcell organization and biogenesis\n",
      "  114704 Blastquery-GOslim-BP.sorted.unique.noOther\n"
     ]
    }
   ],
   "source": [
    "#Remove all \"other biological processes\"\n",
    "#Confirm removal\n",
    "#Count the number of entries\n",
    "!grep --invert-match \"other biological processes\" Blastquery-GOslim-BP.sorted.unique \\\n",
    "> Blastquery-GOslim-BP.sorted.unique.noOther\n",
    "!head Blastquery-GOslim-BP.sorted.unique.noOther\n",
    "!wc -l Blastquery-GOslim-BP.sorted.unique.noOther"
   ]
  },
  {
   "cell_type": "code",
   "execution_count": 8,
   "metadata": {
    "collapsed": false
   },
   "outputs": [
    {
     "name": "stdout",
     "output_type": "stream",
     "text": [
      "  105959\r\n"
     ]
    }
   ],
   "source": [
    "#Count the number of unique CGI IDs with defined GOSlim terms\n",
    "!uniq -f1 Blastquery-GOslim-BP.sorted.unique.noOther | wc -l"
   ]
  },
  {
   "cell_type": "markdown",
   "metadata": {
    "collapsed": true
   },
   "source": [
    "## 4. Get Molecular Function GOslim terms"
   ]
  },
  {
   "cell_type": "code",
   "execution_count": 10,
   "metadata": {
    "collapsed": false
   },
   "outputs": [
    {
     "name": "stdout",
     "output_type": "stream",
     "text": [
      "XM_022430339.1\tother molecular function\r\n",
      "XM_022430339.1\tother molecular function\r\n",
      "XM_022430339.1\tother molecular function\r\n",
      "XM_022430339.1\tother molecular function\r\n",
      "XM_022430339.1\tother molecular function\r\n",
      "XM_022430340.1\tother molecular function\r\n",
      "XM_022430341.1\tother molecular function\r\n",
      "XM_022430342.1\tother molecular function\r\n",
      "XM_022430343.1\tsignal transduction activity\r\n",
      "XM_022430343.1\tsignal transduction activity\r\n"
     ]
    }
   ],
   "source": [
    "!awk -F\"\\t\" '$3 == \"F\" { print $1\"\\t\"$2 }' Blastquery-GOslim.tab | sort > Blastquery-GOslim-MF.sorted\n",
    "!head Blastquery-GOslim-MF.sorted"
   ]
  },
  {
   "cell_type": "code",
   "execution_count": null,
   "metadata": {
    "collapsed": true
   },
   "outputs": [],
   "source": []
  }
 ],
 "metadata": {
  "anaconda-cloud": {},
  "kernelspec": {
   "display_name": "Python [default]",
   "language": "python",
   "name": "python3"
  },
  "language_info": {
   "codemirror_mode": {
    "name": "ipython",
    "version": 3
   },
   "file_extension": ".py",
   "mimetype": "text/x-python",
   "name": "python",
   "nbconvert_exporter": "python",
   "pygments_lexer": "ipython3",
   "version": "3.5.2"
  }
 },
 "nbformat": 4,
 "nbformat_minor": 1
}
